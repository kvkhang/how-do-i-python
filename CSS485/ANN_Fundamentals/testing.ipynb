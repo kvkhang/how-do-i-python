{
 "cells": [
  {
   "cell_type": "code",
   "execution_count": null,
   "metadata": {},
   "outputs": [
    {
     "name": "stdout",
     "output_type": "stream",
     "text": [
      "Layer:\n",
      "   w1 = [0.9095461  0.92775365]\tb = -0.28932442537102365\n"
     ]
    }
   ],
   "source": [
    "import numpy as np\n",
    "import perceptron as ptron\n",
    "\n",
    "layer1 = ptron.PerceptronLayer(2, 1, \"hardlim\")\n",
    "layer1.print()\n",
    "\n",
    "p_Train = np.array([[-1, 1], [-1,-1], [0,0], [1,0]])\n",
    "t_Train = np.array([[1], [1], [0], [0]])\n",
    "\n"
   ]
  },
  {
   "cell_type": "code",
   "execution_count": null,
   "metadata": {},
   "outputs": [
    {
     "name": "stdout",
     "output_type": "stream",
     "text": [
      "Iterations:  4\n",
      "Layer:\n",
      "   w1 = [-2.0904539  -0.07224635]\tb = -0.28932442537102365\n"
     ]
    }
   ],
   "source": [
    "i = 0\n",
    "check = True\n",
    "while check:\n",
    "    check = False\n",
    "    for x, t in zip(p_Train, t_Train):\n",
    "        output = layer1.forward(x)\n",
    "        error = layer1.errorLoss(output, t)\n",
    "        if (error != 0):\n",
    "            check = True\n",
    "        errorInput = np.append(np.array(error * x.transpose()), error)\n",
    "        layer1.backward(errorInput)\n",
    "    i += 1\n",
    "\n",
    "print(\"Iterations: \", i)\n",
    "layer1.print()"
   ]
  }
 ],
 "metadata": {
  "kernelspec": {
   "display_name": "Python 3",
   "language": "python",
   "name": "python3"
  },
  "language_info": {
   "codemirror_mode": {
    "name": "ipython",
    "version": 3
   },
   "file_extension": ".py",
   "mimetype": "text/x-python",
   "name": "python",
   "nbconvert_exporter": "python",
   "pygments_lexer": "ipython3",
   "version": "3.12.9"
  }
 },
 "nbformat": 4,
 "nbformat_minor": 2
}
