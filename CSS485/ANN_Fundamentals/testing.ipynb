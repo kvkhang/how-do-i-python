{
 "cells": [
  {
   "cell_type": "code",
   "execution_count": 1,
   "metadata": {},
   "outputs": [],
   "source": [
    "import numpy as np\n",
    "import perceptron as ptron\n",
    "\n",
    "weights = np.array([[1, 1, -1], [-1, -1, 1]])\n",
    "bias = np.array([0, 0])\n",
    "\n",
    "ppap = ptron.PerceptronLayer(weights, bias, \"hardlim\")"
   ]
  },
  {
   "cell_type": "code",
   "execution_count": 2,
   "metadata": {},
   "outputs": [
    {
     "name": "stdout",
     "output_type": "stream",
     "text": [
      "Layer:\n",
      "   w1 = [ 1  1 -1]\tb = 0\n",
      "   w2 = [-1 -1  1]\tb = 0\n"
     ]
    }
   ],
   "source": [
    "ppap.print()"
   ]
  }
 ],
 "metadata": {
  "kernelspec": {
   "display_name": ".venv",
   "language": "python",
   "name": "python3"
  },
  "language_info": {
   "codemirror_mode": {
    "name": "ipython",
    "version": 3
   },
   "file_extension": ".py",
   "mimetype": "text/x-python",
   "name": "python",
   "nbconvert_exporter": "python",
   "pygments_lexer": "ipython3",
   "version": "3.11.9"
  }
 },
 "nbformat": 4,
 "nbformat_minor": 2
}
